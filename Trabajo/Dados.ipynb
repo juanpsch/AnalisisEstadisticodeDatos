{
 "cells": [
  {
   "cell_type": "code",
   "execution_count": 1,
   "metadata": {},
   "outputs": [],
   "source": [
    "import numpy as np"
   ]
  },
  {
   "cell_type": "code",
   "execution_count": 99,
   "metadata": {},
   "outputs": [
    {
     "data": {
      "text/plain": [
       "(array([3216, 4098, 2067,  537,   77,    5], dtype=int64),\n",
       " array([0., 1., 2., 3., 4., 5., 6.]))"
      ]
     },
     "execution_count": 99,
     "metadata": {},
     "output_type": "execute_result"
    }
   ],
   "source": [
    "iteraciones=10000\n",
    "nDados=5\n",
    "dados = np.random.randint(1,6,size=(iteraciones,nDados))\n",
    "cant3 = np.array([np.count_nonzero(i==3) for i in dados])\n",
    "hist = np.histogram(cant3, bins=6, range=(0,6))\n",
    "hist"
   ]
  },
  {
   "cell_type": "code",
   "execution_count": 108,
   "metadata": {},
   "outputs": [
    {
     "data": {
      "text/plain": [
       "array([4.01877572e-01, 4.01877572e-01, 1.60751029e-01, 3.21502058e-02,\n",
       "       3.21502058e-03, 1.28600823e-04])"
      ]
     },
     "execution_count": 108,
     "metadata": {},
     "output_type": "execute_result"
    }
   ],
   "source": [
    "from scipy.stats import binom\n",
    "\n",
    "binomPosta = binom.pmf(k=range(6), n=5, p=1/6)\n",
    "binomPosta\n"
   ]
  },
  {
   "cell_type": "code",
   "execution_count": 105,
   "metadata": {},
   "outputs": [
    {
     "data": {
      "text/plain": [
       "array([4.01877572e-01, 4.01877572e-01, 1.60751029e-01, 3.21502058e-02,\n",
       "       3.21502058e-03, 1.28600823e-04])"
      ]
     },
     "execution_count": 105,
     "metadata": {},
     "output_type": "execute_result"
    }
   ],
   "source": [
    "binom.pmf(k=range(6), n=5, p=1/6)"
   ]
  }
 ],
 "metadata": {
  "kernelspec": {
   "display_name": "Python 3",
   "language": "python",
   "name": "python3"
  },
  "language_info": {
   "codemirror_mode": {
    "name": "ipython",
    "version": 3
   },
   "file_extension": ".py",
   "mimetype": "text/x-python",
   "name": "python",
   "nbconvert_exporter": "python",
   "pygments_lexer": "ipython3",
   "version": "3.8.3"
  }
 },
 "nbformat": 4,
 "nbformat_minor": 4
}

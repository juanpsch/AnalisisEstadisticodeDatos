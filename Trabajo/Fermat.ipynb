{
 "cells": [
  {
   "cell_type": "code",
   "execution_count": 2,
   "metadata": {},
   "outputs": [],
   "source": [
    "import numpy as np"
   ]
  },
  {
   "cell_type": "code",
   "execution_count": 3,
   "metadata": {},
   "outputs": [
    {
     "name": "stdout",
     "output_type": "stream",
     "text": [
      "Probabilidad de ganar Fermat = 0.84\n"
     ]
    }
   ],
   "source": [
    "iteraciones = 1000\n",
    "gana_Fermat = np.zeros(iteraciones, dtype = int)\n",
    "for j in range(iteraciones):\n",
    "\n",
    "    Rondas_Totales = 51\n",
    "    Fermat = 15\n",
    "    Pascal = 10\n",
    "    Rondas_Jugadas = Fermat + Pascal\n",
    "\n",
    "\n",
    "    for i in range (Rondas_Jugadas+1, Rondas_Totales+1):\n",
    "        x = np.random.randint(2)\n",
    "        if x == 1:\n",
    "            Fermat += 1\n",
    "        else:\n",
    "            Pascal +=1\n",
    "    gana_Fermat[j] = ((Fermat > Pascal)*1)\n",
    "   \n",
    "\n",
    "print(\"Probabilidad de ganar Fermat = {0:.2f}\".format(np.average(gana_Fermat)))\n"
   ]
  }
 ],
 "metadata": {
  "kernelspec": {
   "display_name": "Python 3",
   "language": "python",
   "name": "python3"
  },
  "language_info": {
   "codemirror_mode": {
    "name": "ipython",
    "version": 3
   },
   "file_extension": ".py",
   "mimetype": "text/x-python",
   "name": "python",
   "nbconvert_exporter": "python",
   "pygments_lexer": "ipython3",
   "version": "3.8.3"
  }
 },
 "nbformat": 4,
 "nbformat_minor": 4
}
